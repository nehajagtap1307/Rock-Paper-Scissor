{
  "nbformat": 4,
  "nbformat_minor": 0,
  "metadata": {
    "colab": {
      "provenance": []
    },
    "kernelspec": {
      "name": "python3",
      "display_name": "Python 3"
    },
    "language_info": {
      "name": "python"
    }
  },
  "cells": [
    {
      "cell_type": "code",
      "execution_count": 8,
      "metadata": {
        "colab": {
          "base_uri": "https://localhost:8080/"
        },
        "id": "4t3KgPot2Dzx",
        "outputId": "3d8dde64-c3a8-4d77-d7b0-03746e8fbd93"
      },
      "outputs": [
        {
          "name": "stdout",
          "output_type": "stream",
          "text": [
            "player one enter your choice1234\n",
            "player two enter your choice1234\n",
            "player one enter your secret bit position0\n",
            "player two enter your secret bit position1\n",
            "player one wins\n",
            "do you want to continue? y/nn\n"
          ]
        }
      ],
      "source": [
        "# code for the game rock paper scissor where no cheating is allowed\n",
        "def r_p_s(num1,num2,bit1,bit2):\n",
        "  p1=int(num1[bit1])%3      #p1 s the placeholder at bit position bit1 in num1\n",
        "  p2=int(num2[bit2])%3      #p2 s the placeholder at bit position bit2 in num2\n",
        "  if(player_one[p1]==player_two[p2]):\n",
        "    print(\"draw\")\n",
        "  elif(player_one[p1]==\"rock\" and player_two[p2]==\"scissor\"):\n",
        "    print(\"player one wins\")\n",
        "  elif(player_one[p1]==\"paper\" and player_two[p2]==\"rock\"):\n",
        "    print(\"player one wins\")\n",
        "  elif(player_one[p1]==\"scissor\" and player_two[p2]==\"paper\"):\n",
        "    print(\"player one wins\")\n",
        "  elif(player_one[p1]==\"rock\" and player_two[p2]==\"paper\"):\n",
        "    print(\"player two wins\")\n",
        "  elif(player_one[p1]==\"paper\" and player_two[p2]==\"scissor\"):\n",
        "    print(\"player two wins\")\n",
        "  elif(player_one[p1]==\"scissor\" and player_two[p2]==\"rock\"):\n",
        "    print(\"player two wins\")\n",
        "\n",
        "player_one={0:\"rock\",2:\"scissor\",1:\"paper\"}\n",
        "player_two={0:\"paper\",2:\"rock\",3:\"scissor\"}\n",
        "while(1):\n",
        "  num1=input(\"player one enter your choice\")\n",
        "  num2=input(\"player two enter your choice\")\n",
        "  bit1=int(input(\"player one enter your secret bit position\"))\n",
        "  bit2=int(input(\"player two enter your secret bit position\"))\n",
        "  r_p_s(num1,num2,bit1,bit2)\n",
        "  ch=input(\"do you want to continue? y/n\")\n",
        "  if(ch=='n'):\n",
        "   break\n"
      ]
    }
  ]
}